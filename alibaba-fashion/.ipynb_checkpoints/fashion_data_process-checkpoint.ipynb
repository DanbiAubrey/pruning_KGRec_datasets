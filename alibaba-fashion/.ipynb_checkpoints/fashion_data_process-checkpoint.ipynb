{
 "cells": [
  {
   "cell_type": "markdown",
   "id": "90090145",
   "metadata": {},
   "source": [
    "### Dataset Info\n",
    "#### entity_num: 89196 | user_num: 114737 | item_num: 30040 | relation_type_num: 50 | triple_num: 279155"
   ]
  },
  {
   "cell_type": "markdown",
   "id": "430dc330",
   "metadata": {},
   "source": [
    "### processing train data"
   ]
  },
  {
   "cell_type": "code",
   "execution_count": 1,
   "id": "e6795d21",
   "metadata": {},
   "outputs": [
    {
     "name": "stdout",
     "output_type": "stream",
     "text": [
      "Interaction number for train dataset:1380510\n",
      "Snippet of train dataset:[['0', '0'], ['0', '1'], ['0', '2'], ['0', '3'], ['0', '4'], ['0', '5'], ['0', '6'], ['0', '7'], ['0', '8'], ['0', '9']]\n"
     ]
    }
   ],
   "source": [
    "train_data = []\n",
    "with open('train.txt') as file:\n",
    "    for i, line in enumerate(file):\n",
    "        row = line.split()\n",
    "        inter = [[row[0], i] for i in row[1:]]\n",
    "        train_data += inter\n",
    "    \n",
    "print(\"Interaction number for train dataset:{}\".format(len(train_data)))\n",
    "print(\"Snippet of train dataset:{}\".format(train_data[:10]))"
   ]
  },
  {
   "cell_type": "code",
   "execution_count": 2,
   "id": "80c7fe8f",
   "metadata": {},
   "outputs": [
    {
     "name": "stdout",
     "output_type": "stream",
     "text": [
      "Interaction number for test dataset:400583\n",
      "Snippet of test dataset:[['0', '11'], ['0', '12'], ['0', '13'], ['1', '23'], ['1', '24'], ['1', '25'], ['2', '44'], ['2', '45'], ['2', '46'], ['2', '47']]\n"
     ]
    }
   ],
   "source": [
    "test_data = []\n",
    "with open('test.txt') as file:\n",
    "    for i, line in enumerate(file):\n",
    "        row = line.split()\n",
    "        inter = [[row[0], i] for i in row[1:]]\n",
    "        test_data += inter\n",
    "    \n",
    "print(\"Interaction number for test dataset:{}\".format(len(test_data)))\n",
    "print(\"Snippet of test dataset:{}\".format(test_data[:10]))"
   ]
  },
  {
   "cell_type": "code",
   "execution_count": 3,
   "id": "2eb723e6",
   "metadata": {},
   "outputs": [
    {
     "name": "stdout",
     "output_type": "stream",
     "text": [
      "Total interaction number used for train and test dataset: 1781093\n"
     ]
    }
   ],
   "source": [
    "print(f\"Total interaction number used for train and test dataset: {len(train_data)+len(test_data)}\")"
   ]
  },
  {
   "cell_type": "code",
   "execution_count": 4,
   "id": "e14308c5",
   "metadata": {},
   "outputs": [],
   "source": [
    "train_file_path = \"processed_data/train.txt\"\n",
    "\n",
    "with open(train_file_path, 'w') as file:\n",
    "    for row in train_data:\n",
    "        file.write(\"\\t\".join(map(str,row)) + '\\n')"
   ]
  },
  {
   "cell_type": "code",
   "execution_count": 5,
   "id": "7a8e7527",
   "metadata": {},
   "outputs": [],
   "source": [
    "test_file_path = \"processed_data/test.txt\"\n",
    "\n",
    "with open(test_file_path, 'w') as file:\n",
    "    for row in test_data:\n",
    "        file.write(\"\\t\".join(map(str, row)) + '\\n')"
   ]
  },
  {
   "cell_type": "code",
   "execution_count": 20,
   "id": "c9515a9b",
   "metadata": {},
   "outputs": [],
   "source": [
    "kg = []\n",
    "\n",
    "with open('kg_final.txt','r') as file:\n",
    "    file.readline()\n",
    "    for line in file:\n",
    "        row = line.split()\n",
    "        cur_row = []\n",
    "        cur_row.append(int(row[0]))\n",
    "        cur_row.append(int(row[1]))\n",
    "        cur_row.append(int(row[2]))\n",
    "        kg.append(cur_row)\n",
    "        \n",
    "with open('alibaba_fashion.kg', 'w') as file:\n",
    "    file.write(\"head_id:token\trelation_id:token\ttail_id:token\\n\")\n",
    "    for i in range(len(kg)):\n",
    "        file.write(\"\\t\".join(map(str, kg[i])) + \"\\n\")"
   ]
  },
  {
   "cell_type": "code",
   "execution_count": 16,
   "id": "302c4feb",
   "metadata": {},
   "outputs": [
    {
     "name": "stderr",
     "output_type": "stream",
     "text": [
      "IOPub data rate exceeded.\n",
      "The notebook server will temporarily stop sending output\n",
      "to the client in order to avoid crashing it.\n",
      "To change this limit, set the config variable\n",
      "`--NotebookApp.iopub_data_rate_limit`.\n",
      "\n",
      "Current values:\n",
      "NotebookApp.iopub_data_rate_limit=1000000.0 (bytes/sec)\n",
      "NotebookApp.rate_limit_window=3.0 (secs)\n",
      "\n"
     ]
    }
   ],
   "source": [
    "with open('alibaba_fashion.kg', 'r') as file:\n",
    "    for line in file:\n",
    "        print(line)\n",
    "        break"
   ]
  }
 ],
 "metadata": {
  "kernelspec": {
   "display_name": "Python 3 (ipykernel)",
   "language": "python",
   "name": "python3"
  },
  "language_info": {
   "codemirror_mode": {
    "name": "ipython",
    "version": 3
   },
   "file_extension": ".py",
   "mimetype": "text/x-python",
   "name": "python",
   "nbconvert_exporter": "python",
   "pygments_lexer": "ipython3",
   "version": "3.7.16"
  }
 },
 "nbformat": 4,
 "nbformat_minor": 5
}
